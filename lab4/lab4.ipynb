{
 "cells": [
  {
   "cell_type": "code",
   "execution_count": 1,
   "id": "cb0fd973",
   "metadata": {
    "pycharm": {
     "is_executing": true
    }
   },
   "outputs": [],
   "source": [
    "import torch\n",
    "import matplotlib.pyplot as plt\n",
    "from feedforward_np_version import Model_NP\n",
    "from feedforward_pytorch_version import Model_Pytorch\n",
    "import numpy as np\n",
    "from torch import nn\n",
    "import gzip\n",
    "from torchvision import transforms\n",
    "import os\n",
    "np.random.seed(2023)"
   ]
  },
  {
   "cell_type": "code",
   "execution_count": 2,
   "id": "467d1949",
   "metadata": {},
   "outputs": [],
   "source": [
    "def display_mnist():\n",
    "    data_train = MNISTDataset('./input/train', train=True)\n",
    "    fig = plt.figure()\n",
    "\n",
    "    for i in range(6):\n",
    "        plt.subplot(2, 3, i + 1)\n",
    "        plt.tight_layout()\n",
    "        plt.imshow(data_train[i][0], cmap='gray', interpolation='none')\n",
    "        plt.title(\"Ground Truth: {}\".format(data_train[i][1]))\n",
    "        plt.xticks([])\n",
    "        plt.yticks([])\n",
    "    plt.show()"
   ]
  },
  {
   "cell_type": "code",
   "execution_count": 3,
   "id": "dc7928e5",
   "metadata": {},
   "outputs": [],
   "source": [
    "class MNISTDataset():\n",
    "    def __init__(self, data_path, train=True, transform=None):\n",
    "        X, y = self.load_data(data_path, train)\n",
    "        self.X = X\n",
    "        self.y = y\n",
    "        self.transform = transform\n",
    "\n",
    "    def __getitem__(self, index):\n",
    "        img = self.X[index]\n",
    "        if self.transform is not None:\n",
    "            img = self.transform(img)\n",
    "        if self.y is None:\n",
    "            return img\n",
    "        else:\n",
    "            return img, int(self.y[index])\n",
    "\n",
    "    def __len__(self):\n",
    "        return len(self.X)\n",
    "\n",
    "    def load_data(self, data_path, train):\n",
    "        y_train = None\n",
    "\n",
    "        if train:\n",
    "            with gzip.open(data_path + '-labels.gz', 'rb') as f:\n",
    "                y_train = np.frombuffer(f.read(), np.uint8, offset=8)\n",
    "\n",
    "        with gzip.open(data_path + '-images.gz', 'rb') as f:\n",
    "            x_train = np.frombuffer(f.read(), np.uint8, offset=16).reshape(-1, 28, 28)\n",
    "        return x_train, y_train"
   ]
  },
  {
   "cell_type": "code",
   "execution_count": 4,
   "id": "c22eec12",
   "metadata": {},
   "outputs": [],
   "source": [
    "def load_mnist():\n",
    "    train_set = MNISTDataset('./input/train', train=True,\n",
    "                             transform=transforms.Compose([\n",
    "                                 transforms.ToTensor()\n",
    "                             ])\n",
    "                             )\n",
    "    test_set = MNISTDataset('./input/t10k', train=False,\n",
    "                            transform=transforms.Compose([\n",
    "                                transforms.ToTensor()\n",
    "                            ])\n",
    "                            )\n",
    "    return train_set, test_set"
   ]
  },
  {
   "cell_type": "code",
   "execution_count": 5,
   "id": "95b93da8",
   "metadata": {},
   "outputs": [],
   "source": [
    "def train_with_Model_NP(train_set, test_set):\n",
    "    def compute_accuracy(log_prob, labels):\n",
    "        predictions = np.argmax(log_prob, axis=1)\n",
    "        truth = np.argmax(labels, axis=1)\n",
    "        return np.sum(predictions == truth)\n",
    "\n",
    "    _, width, height = train_set[0][0].shape\n",
    "    model = Model_NP(width*height, 10)\n",
    "\n",
    "    train_label = np.zeros(shape=[len(train_set), 10])\n",
    "    #test_label = np.zeros(shape=[len(test_set), 10])\n",
    "    train_label[np.arange(len(train_set)), np.array([train_set[i][1] for i in np.arange(len(train_set))])] = 1.\n",
    "    #test_label[np.arange(len(test_set)), np.array([test_set[i][1] for i in np.arange(len(test_set))])] = 1.\n",
    "\n",
    "    num_epochs = 100\n",
    "    for epoch in range(1, num_epochs + 1):\n",
    "        train_l_sum, train_acc_sum, n = 0., 0., 0\n",
    "\n",
    "        X = np.concatenate([train_set[i][0] for i in np.arange(len(train_set))], axis = 0)\n",
    "        y = train_label\n",
    "        pred_y = model.forward(X)\n",
    "        model.backward(y)\n",
    "        model.update()\n",
    "        loss = model.compute_loss(pred_y, y)\n",
    "        accuracy = compute_accuracy(pred_y, y)\n",
    "\n",
    "        train_l_sum += loss\n",
    "        train_acc_sum += accuracy\n",
    "        n += y.shape[0]\n",
    "\n",
    "        if epoch % 10 == 0:\n",
    "            print('epoch %d, loss %.4f, train acc %.3f'\n",
    "                  % (epoch, train_l_sum / n, train_acc_sum / n)); # exit()\n",
    "\n",
    "    X = np.stack([test_set[i][0] for i in np.arange(len(test_set))], axis = 0)\n",
    "    h2_log = model.forward(X)\n",
    "    predictions = np.argmax(h2_log, axis=1)\n",
    "    pred_txt = [str(w) for w in predictions]\n",
    "    g = open('output/predict.txt', 'w')\n",
    "    g.write('\\n'.join(pred_txt))\n",
    "    g.close()\n"
   ]
  },
  {
   "cell_type": "code",
   "execution_count": 6,
   "id": "9560112d",
   "metadata": {},
   "outputs": [],
   "source": [
    "def train_with_Model_Pytorch(train_set, test_set):\n",
    "    depth, width, height = train_set[0][0].shape\n",
    "\n",
    "    train_dataloader = torch.utils.data.DataLoader(train_set, batch_size=64, shuffle=True)\n",
    "    #test_dataloader = torch.utils.data.DataLoader(test_set, batch_size=1000, shuffle=False)\n",
    "\n",
    "    model = Model_Pytorch(width*height, 10)\n",
    "    optimizer = torch.optim.SGD(model.parameters(), lr=0.1)\n",
    "    loss_func = nn.CrossEntropyLoss()\n",
    "\n",
    "    num_epochs = 10\n",
    "    for epoch in range(1, num_epochs + 1):\n",
    "        train_l_sum, train_acc_sum, n = 0., 0., 0\n",
    "        for X, y in train_dataloader:\n",
    "            #print(y)\n",
    "            y_hat = model(X).squeeze(1)\n",
    "            loss = loss_func(y_hat, y.long()).sum()\n",
    "\n",
    "            # 梯度清零\n",
    "            optimizer.zero_grad()\n",
    "            loss.backward()\n",
    "            optimizer.step()\n",
    "            train_l_sum += loss.item()\n",
    "            train_acc_sum += (y_hat.argmax(dim=1) == y).float().sum().item()\n",
    "            n += y.shape[0]\n",
    "\n",
    "        if epoch % 5 == 0:\n",
    "            print('epoch %d, loss %.4f, train acc %.3f'\n",
    "                % (epoch, train_l_sum / n, train_acc_sum / n))"
   ]
  },
  {
   "cell_type": "code",
   "execution_count": 7,
   "id": "8ca172b4",
   "metadata": {},
   "outputs": [],
   "source": [
    "def  zip_fun():\n",
    "    path=os.getcwd()\n",
    "    newpath=path+\"/output/\"\n",
    "    os.chdir(newpath)\n",
    "    os.system('zip prediction.zip predict.txt')\n",
    "    os.chdir(path)\n"
   ]
  },
  {
   "cell_type": "code",
   "execution_count": 8,
   "id": "142f488a",
   "metadata": {},
   "outputs": [
    {
     "name": "stderr",
     "output_type": "stream",
     "text": [
      "C:\\Users\\TheadoraTang\\AppData\\Local\\Temp\\ipykernel_18952\\1455643602.py:7: UserWarning: The figure layout has changed to tight\n",
      "  plt.tight_layout()\n"
     ]
    },
    {
     "data": {
      "image/png": "[encoded data removed]",
      "text/plain": [
       "<Figure size 640x480 with 6 Axes>"
      ]
     },
     "metadata": {},
     "output_type": "display_data"
    },
    {
     "name": "stderr",
     "output_type": "stream",
     "text": [
      "D:\\anaconda\\lib\\site-packages\\torchvision\\transforms\\functional.py:152: UserWarning: The given NumPy array is not writable, and PyTorch does not support non-writable tensors. This means writing to this tensor will result in undefined behavior. You may want to copy the array to protect its data or make it writable before converting it to a tensor. This type of warning will be suppressed for the rest of this program. (Triggered internally at C:\\b\\abs_abjetg6_iu\\croot\\pytorch_1686932924616\\work\\torch\\csrc\\utils\\tensor_numpy.cpp:212.)\n",
      "  img = torch.from_numpy(pic.transpose((2, 0, 1))).contiguous()\n"
     ]
    },
    {
     "name": "stdout",
     "output_type": "stream",
     "text": [
      "model with numpy ...\n",
      "epoch 10, loss 0.0136, train acc 0.445\n",
      "epoch 20, loss 0.0135, train acc 0.590\n",
      "epoch 30, loss 0.0135, train acc 0.704\n",
      "epoch 40, loss 0.0134, train acc 0.794\n",
      "epoch 50, loss 0.0134, train acc 0.785\n",
      "epoch 60, loss 0.0133, train acc 0.879\n",
      "epoch 70, loss 0.0133, train acc 0.886\n",
      "epoch 80, loss 0.0133, train acc 0.890\n",
      "epoch 90, loss 0.0133, train acc 0.890\n",
      "epoch 100, loss 0.0133, train acc 0.892\n"
     ]
    },
    {
     "ename": "FileNotFoundError",
     "evalue": "[Errno 2] No such file or directory: 'output/predict.txt'",
     "output_type": "error",
     "traceback": [
      "\u001B[1;31m---------------------------------------------------------------------------\u001B[0m",
      "\u001B[1;31mFileNotFoundError\u001B[0m                         Traceback (most recent call last)",
      "Cell \u001B[1;32mIn [8], line 6\u001B[0m\n\u001B[0;32m      2\u001B[0m train_set, test_set \u001B[38;5;241m=\u001B[39m load_mnist()\n\u001B[0;32m      4\u001B[0m display_mnist()\n\u001B[1;32m----> 6\u001B[0m \u001B[43mtrain_with_Model_NP\u001B[49m\u001B[43m(\u001B[49m\u001B[43mtrain_set\u001B[49m\u001B[43m,\u001B[49m\u001B[43m \u001B[49m\u001B[43mtest_set\u001B[49m\u001B[43m)\u001B[49m\n\u001B[0;32m      8\u001B[0m train_with_Model_Pytorch(train_set, test_set)\n\u001B[0;32m     10\u001B[0m zip_fun()\n",
      "Cell \u001B[1;32mIn [5], line 39\u001B[0m, in \u001B[0;36mtrain_with_Model_NP\u001B[1;34m(train_set, test_set)\u001B[0m\n\u001B[0;32m     37\u001B[0m predictions \u001B[38;5;241m=\u001B[39m np\u001B[38;5;241m.\u001B[39margmax(h2_log, axis\u001B[38;5;241m=\u001B[39m\u001B[38;5;241m1\u001B[39m)\n\u001B[0;32m     38\u001B[0m pred_txt \u001B[38;5;241m=\u001B[39m [\u001B[38;5;28mstr\u001B[39m(w) \u001B[38;5;28;01mfor\u001B[39;00m w \u001B[38;5;129;01min\u001B[39;00m predictions]\n\u001B[1;32m---> 39\u001B[0m g \u001B[38;5;241m=\u001B[39m \u001B[38;5;28;43mopen\u001B[39;49m\u001B[43m(\u001B[49m\u001B[38;5;124;43m'\u001B[39;49m\u001B[38;5;124;43moutput/predict.txt\u001B[39;49m\u001B[38;5;124;43m'\u001B[39;49m\u001B[43m,\u001B[49m\u001B[43m \u001B[49m\u001B[38;5;124;43m'\u001B[39;49m\u001B[38;5;124;43mw\u001B[39;49m\u001B[38;5;124;43m'\u001B[39;49m\u001B[43m)\u001B[49m\n\u001B[0;32m     40\u001B[0m g\u001B[38;5;241m.\u001B[39mwrite(\u001B[38;5;124m'\u001B[39m\u001B[38;5;130;01m\\n\u001B[39;00m\u001B[38;5;124m'\u001B[39m\u001B[38;5;241m.\u001B[39mjoin(pred_txt))\n\u001B[0;32m     41\u001B[0m g\u001B[38;5;241m.\u001B[39mclose()\n",
      "File \u001B[1;32mD:\\anaconda\\lib\\site-packages\\IPython\\core\\interactiveshell.py:282\u001B[0m, in \u001B[0;36m_modified_open\u001B[1;34m(file, *args, **kwargs)\u001B[0m\n\u001B[0;32m    275\u001B[0m \u001B[38;5;28;01mif\u001B[39;00m file \u001B[38;5;129;01min\u001B[39;00m {\u001B[38;5;241m0\u001B[39m, \u001B[38;5;241m1\u001B[39m, \u001B[38;5;241m2\u001B[39m}:\n\u001B[0;32m    276\u001B[0m     \u001B[38;5;28;01mraise\u001B[39;00m \u001B[38;5;167;01mValueError\u001B[39;00m(\n\u001B[0;32m    277\u001B[0m         \u001B[38;5;124mf\u001B[39m\u001B[38;5;124m\"\u001B[39m\u001B[38;5;124mIPython won\u001B[39m\u001B[38;5;124m'\u001B[39m\u001B[38;5;124mt let you open fd=\u001B[39m\u001B[38;5;132;01m{\u001B[39;00mfile\u001B[38;5;132;01m}\u001B[39;00m\u001B[38;5;124m by default \u001B[39m\u001B[38;5;124m\"\u001B[39m\n\u001B[0;32m    278\u001B[0m         \u001B[38;5;124m\"\u001B[39m\u001B[38;5;124mas it is likely to crash IPython. If you know what you are doing, \u001B[39m\u001B[38;5;124m\"\u001B[39m\n\u001B[0;32m    279\u001B[0m         \u001B[38;5;124m\"\u001B[39m\u001B[38;5;124myou can use builtins\u001B[39m\u001B[38;5;124m'\u001B[39m\u001B[38;5;124m open.\u001B[39m\u001B[38;5;124m\"\u001B[39m\n\u001B[0;32m    280\u001B[0m     )\n\u001B[1;32m--> 282\u001B[0m \u001B[38;5;28;01mreturn\u001B[39;00m io_open(file, \u001B[38;5;241m*\u001B[39margs, \u001B[38;5;241m*\u001B[39m\u001B[38;5;241m*\u001B[39mkwargs)\n",
      "\u001B[1;31mFileNotFoundError\u001B[0m: [Errno 2] No such file or directory: 'output/predict.txt'"
     ]
    }
   ],
   "source": [
    "if __name__ == '__main__':\n",
    "    train_set, test_set = load_mnist()\n",
    "\n",
    "    display_mnist()\n",
    "\n",
    "    train_with_Model_NP(train_set, test_set)\n",
    "\n",
    "    train_with_Model_Pytorch(train_set, test_set)\n",
    "    \n",
    "    zip_fun()"
   ]
  },
  {
   "cell_type": "code",
   "execution_count": null,
   "id": "aa178892",
   "metadata": {},
   "outputs": [],
   "source": []
  },
  {
   "cell_type": "code",
   "execution_count": null,
   "id": "14fb3fab",
   "metadata": {},
   "outputs": [],
   "source": []
  },
  {
   "cell_type": "code",
   "execution_count": null,
   "id": "cdbe36d0",
   "metadata": {},
   "outputs": [],
   "source": []
  },
  {
   "cell_type": "code",
   "execution_count": null,
   "id": "efc343da",
   "metadata": {},
   "outputs": [],
   "source": []
  }
 ],
 "metadata": {
  "kernelspec": {
   "display_name": "Python 3 (ipykernel)",
   "language": "python",
   "name": "python3"
  },
  "language_info": {
   "codemirror_mode": {
    "name": "ipython",
    "version": 3
   },
   "file_extension": ".py",
   "mimetype": "text/x-python",
   "name": "python",
   "nbconvert_exporter": "python",
   "pygments_lexer": "ipython3",
   "version": "3.9.12"
  }
 },
 "nbformat": 4,
 "nbformat_minor": 5
}
